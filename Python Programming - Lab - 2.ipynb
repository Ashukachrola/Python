{
 "cells": [
  {
   "cell_type": "markdown",
   "metadata": {},
   "source": [
    "\n",
    "<a href='https://www.darshan.ac.in/'> <img src='https://www.darshan.ac.in/Content/media/DU_Logo.svg' width=\"250\" height=\"300\"/></a>\n",
    "<pre>\n",
    "<center><b><h1>Python Programming - 2101CS405</b></center>\n",
    "<center><b><h1>Lab - 2</b></center>    \n",
    "<pre>"
   ]
  },
  {
   "cell_type": "markdown",
   "metadata": {},
   "source": [
    "# if..else.."
   ]
  },
  {
   "cell_type": "markdown",
   "metadata": {},
   "source": [
    "### 01) WAP to check whether the given number is positive or negative."
   ]
  },
  {
   "cell_type": "code",
   "execution_count": 2,
   "metadata": {},
   "outputs": [
    {
     "name": "stdout",
     "output_type": "stream",
     "text": [
      "Enter number : -2\n",
      "Number is Negative\n"
     ]
    }
   ],
   "source": [
    "n = int(input(\"Enter number : \"))\n",
    "if(n > 0):\n",
    "    print(\"Number is Positive\")\n",
    "else:\n",
    "    print(\"Number is Negative\")"
   ]
  },
  {
   "cell_type": "markdown",
   "metadata": {},
   "source": [
    "### 02) WAP to check whether the given number is odd or even"
   ]
  },
  {
   "cell_type": "code",
   "execution_count": 5,
   "metadata": {},
   "outputs": [
    {
     "name": "stdout",
     "output_type": "stream",
     "text": [
      "Enter number5\n",
      "Number is odd\n"
     ]
    }
   ],
   "source": [
    "n = int(input(\"Enter number\"))\n",
    "if(n % 2 == 0):\n",
    "    print(\"Number is Even\")\n",
    "else:\n",
    "    print(\"Number is odd\")"
   ]
  },
  {
   "cell_type": "markdown",
   "metadata": {},
   "source": [
    "### 03) WAP to find out largest number from given two numbers using simple if and ternary operator."
   ]
  },
  {
   "cell_type": "code",
   "execution_count": 14,
   "metadata": {},
   "outputs": [
    {
     "name": "stdout",
     "output_type": "stream",
     "text": [
      "Enter number 1 : 4\n",
      "Enter number 2 : 5\n",
      "Large number =  5\n"
     ]
    }
   ],
   "source": [
    "n1 = int(input(\"Enter number 1 : \"))\n",
    "n2 = int(input(\"Enter number 2 : \"))\n",
    "if(n1 > n2):\n",
    "    print(\"Number 1 is large number\")\n",
    "else:\n",
    "    print(\"Number 2 is large number\")\n",
    "\n",
    "    \n",
    "#Using Ternery Operator\n",
    "\n",
    "max = n1 if n1>n2 else n2\n",
    "print(\"Large number = \",max)"
   ]
  },
  {
   "cell_type": "markdown",
   "metadata": {},
   "source": [
    "### 04) WAP to find out largest number from given three numbers."
   ]
  },
  {
   "cell_type": "code",
   "execution_count": 20,
   "metadata": {},
   "outputs": [
    {
     "name": "stdout",
     "output_type": "stream",
     "text": [
      "Enter number 1 : 2\n",
      "Enter number 2 : 3\n",
      "Enter number 3 : 5\n",
      "Number 3 is largest number 5\n"
     ]
    }
   ],
   "source": [
    "n1 = int(input(\"Enter number 1 : \"))\n",
    "n2 = int(input(\"Enter number 2 : \"))\n",
    "n3 = int(input(\"Enter number 3 : \"))\n",
    "if(n1 > n2):\n",
    "    if(n1 > n3):\n",
    "        print(\"number 1 is largest number\",n1)\n",
    "    else:\n",
    "        print(\"Number 2 is largest number\",n2)\n",
    "else:\n",
    "    print(\"Number 3 is largest number\",n3)"
   ]
  },
  {
   "cell_type": "markdown",
   "metadata": {},
   "source": [
    "### 05) WAP to check whether the given year is leap year or not.\n",
    "[If a year can be divisible by 4 but not divisible by 100 then it is leap year but if it is divisible by 400 then it is leap year]"
   ]
  },
  {
   "cell_type": "code",
   "execution_count": 29,
   "metadata": {},
   "outputs": [
    {
     "name": "stdout",
     "output_type": "stream",
     "text": [
      "Enter year : 2019\n",
      "Not Leap year\n"
     ]
    }
   ],
   "source": [
    "year = int(input(\"Enter year : \"))\n",
    "if(year % 4 == 0):\n",
    "    print(\"Year is Leap Year\")\n",
    "elif((year % 100 != 0) and (year % 400 == 0)):\n",
    "    print(\"Leap year\")\n",
    "else:\n",
    "    print(\"Not Leap year\")"
   ]
  },
  {
   "cell_type": "markdown",
   "metadata": {},
   "source": [
    "### 06) WAP in python to display the name of the day according to the number given by the user"
   ]
  },
  {
   "cell_type": "code",
   "execution_count": 31,
   "metadata": {},
   "outputs": [
    {
     "name": "stdout",
     "output_type": "stream",
     "text": [
      "Enter number from 1 to 7 :4\n",
      "wednesday...\n"
     ]
    }
   ],
   "source": [
    "number = int(input(\"Enter number from 1 to 7 :\"))\n",
    "if(number == 1):\n",
    "    print(\"sunday...\")\n",
    "elif(number == 2):\n",
    "    print(\"monday...\")\n",
    "elif(number == 3):\n",
    "    print(\"Tuesday...\")\n",
    "elif(number == 4):\n",
    "    print(\"wednesday...\")\n",
    "elif(number == 5):\n",
    "    print(\"thusday...\")\n",
    "elif(number == 6):\n",
    "    print(\"friday...\")\n",
    "elif(number == 7):\n",
    "    print(\"saturday...\")\n",
    "else:\n",
    "    print(\"enter valid number...\")"
   ]
  },
  {
   "cell_type": "markdown",
   "metadata": {},
   "source": [
    "### 07) WAP to implement simple calculator which performs (add,sub,mul,div) of two no. based on user input."
   ]
  },
  {
   "cell_type": "code",
   "execution_count": 33,
   "metadata": {},
   "outputs": [
    {
     "name": "stdout",
     "output_type": "stream",
     "text": [
      "Enter number 1 :5\n",
      "Enter number 2 :4\n",
      "1 is for addition...2 is for subtraction...3 is for multiplication...4 is for division...\n",
      "Enter to perform arithmatic operation...4\n",
      "division =  1.25\n"
     ]
    }
   ],
   "source": [
    "number1 = float(input(\"Enter number 1 :\"))\n",
    "number2 = float(input(\"Enter number 2 :\"))\n",
    "print(\"1 is for addition...2 is for subtraction...3 is for multiplication...4 is for division...\")\n",
    "user = int(input(\"Enter to perform arithmatic operation...\"))\n",
    "addition = number1 + number2;\n",
    "subtraction = number1 - number2;\n",
    "multiplication = number1 * number2;\n",
    "division = number1 / number2;\n",
    "if(user == 1):\n",
    "    print(\"addition = \",addition)\n",
    "elif(user == 2):\n",
    "    print(\"subtraction = \",subtraction)\n",
    "elif(user == 3):\n",
    "    print(\"multiplication = \",multiplication)\n",
    "elif(user == 4):\n",
    "    print(\"division = \",division)\n",
    "else:\n",
    "    print(\"enter valid number\")"
   ]
  },
  {
   "cell_type": "markdown",
   "metadata": {},
   "source": [
    "### 08) WAP to calculate electricity bill based on following criteria. Which takes the unit from the user.\n",
    "a. First 1 to 50 units – Rs. 2.60/unit</br>\n",
    "b. Next 50 to 100 units – Rs. 3.25/unit</br>\n",
    "c. Next 100 to 200 units – Rs. 5.26/unit</br>\n",
    "d. above 200 units – Rs. 8.45/unit"
   ]
  },
  {
   "cell_type": "code",
   "execution_count": 36,
   "metadata": {},
   "outputs": [
    {
     "name": "stdout",
     "output_type": "stream",
     "text": [
      "Enter unit : 500\n",
      "rs =  3353.5\n"
     ]
    }
   ],
   "source": [
    "units = float(input(\"Enter unit : \"))\n",
    "if(units >= 1) and (units <= 50):\n",
    "    print(\"rs. is = \",2.60*units)\n",
    "elif(units > 50) and (units <= 100):\n",
    "    units2 = units - 50\n",
    "    print(\"rs is = \",(50*2.60)+(units2*3.25))\n",
    "elif(units>100) and (units<=200):\n",
    "    units3 = units - 100\n",
    "    print(\"rs = \",(50*2.60)+(50*3.25)+(units3*5.26))\n",
    "elif(units>200):\n",
    "    units4 = units - 200\n",
    "    print(\"rs = \",(50*2.60)+(50*3.25)+(100*5.26)+(units4*8.45))\n",
    "else:\n",
    "    print(\"...\")"
   ]
  },
  {
   "cell_type": "markdown",
   "metadata": {},
   "source": [
    "### 01) WAP to read marks of five subjects. Calculate percentage and print class accordingly. \n",
    "Fail below 35 </br>\n",
    "Pass Class between 35 to 45 </br>\n",
    "Second Class</br>\n",
    "between 45 to 60</br>\n",
    "First Class between 60 to 70</br> \n",
    "Distinction if more than 70"
   ]
  },
  {
   "cell_type": "code",
   "execution_count": 38,
   "metadata": {},
   "outputs": [
    {
     "name": "stdout",
     "output_type": "stream",
     "text": [
      "Enter s1 marks :76\n",
      "Enter s2 marks :34\n",
      "Enter s3 marks :32\n",
      "Enter s4 marks :21\n",
      "Enter s5 marks :90\n",
      "your per. =  50.6\n",
      "Second class...\n"
     ]
    }
   ],
   "source": [
    "s1 = int(input(\"Enter s1 marks :\"))\n",
    "s2 = int(input(\"Enter s2 marks :\"))\n",
    "s3 = int(input(\"Enter s3 marks :\"))\n",
    "s4 = int(input(\"Enter s4 marks :\"))\n",
    "s5 = int(input(\"Enter s5 marks :\"))\n",
    "per = ((s1+s2+s3+s4+s5)*100)/500;\n",
    "print(\"your per. = \",per)\n",
    "if(per <35):\n",
    "    print(\"Fail...\")\n",
    "elif(per >= 35)and(per < 45):\n",
    "    print(\"Pass class...\")\n",
    "elif(per >= 45)and(per < 60):\n",
    "    print(\"Second class...\")\n",
    "elif(per >= 60)and(per < 70):\n",
    "    print(\"First class...\")\n",
    "elif(per >= 70):\n",
    "    print(\"Distinction...\")\n",
    "else:\n",
    "    print(\"...\")"
   ]
  },
  {
   "cell_type": "markdown",
   "metadata": {},
   "source": [
    "### 02) WAP to find out the Maximum and Minimum number from given 4 numbers."
   ]
  },
  {
   "cell_type": "code",
   "execution_count": 39,
   "metadata": {},
   "outputs": [
    {
     "name": "stdout",
     "output_type": "stream",
     "text": [
      "Enter A Number : 34\n",
      "Enter A Number : 2\n",
      "Enter A Number : 4\n",
      "Enter A Number : 6\n",
      "34 is largest\n",
      "2 is smallest\n"
     ]
    }
   ],
   "source": [
    "n1 = int(input(\"Enter A Number : \"))\n",
    "n2 = int(input(\"Enter A Number : \"))\n",
    "n3 = int(input(\"Enter A Number : \"))\n",
    "n4 = int(input(\"Enter A Number : \"))\n",
    "\n",
    "print(n1 if n1 > n2 and n1 > n3 and n1 > n4 else n2 if n2 >\n",
    "      n3 and n3 > n4 else n3 if n3 > n4 else n4, \"is largest\")\n",
    "\n",
    "print(n1 if n1 < n2 and n1 < n3 and n1 < n4 else n2 if n2 <\n",
    "      n3 and n3 < n4 else n3 if n3 < n4 else n4, \"is smallest\")\n"
   ]
  },
  {
   "cell_type": "markdown",
   "metadata": {},
   "source": [
    "### 03) WAP to input an integer number and check the last digit of number is even or odd."
   ]
  },
  {
   "cell_type": "code",
   "execution_count": 40,
   "metadata": {},
   "outputs": [
    {
     "name": "stdout",
     "output_type": "stream",
     "text": [
      "Enter A Number : 54\n",
      "4 Is Last Digit And It Is Even\n"
     ]
    }
   ],
   "source": [
    "n = int(input(\"Enter A Number : \"))\n",
    "num = n % 10\n",
    "if num % 2 == 0:\n",
    "    print(f\"{num} Is Last Digit And It Is Even\")\n",
    "else:\n",
    "    print(f\"{num} Is Last Digit And It Is Odd\")"
   ]
  },
  {
   "cell_type": "markdown",
   "metadata": {},
   "source": [
    "### 04) WAP to determine the roots of the equation ax2+bx+c=0."
   ]
  },
  {
   "cell_type": "code",
   "execution_count": 41,
   "metadata": {},
   "outputs": [
    {
     "name": "stdout",
     "output_type": "stream",
     "text": [
      "Enter Value Of a : 45\n",
      "Enter Value Of b : 23\n",
      "Enter Value Of c : 56\n",
      "Complex Roots\n",
      "-0.25555555555555554 +i 97.72921773962995\n",
      "-0.25555555555555554 -j 97.72921773962995\n"
     ]
    }
   ],
   "source": [
    "import math\n",
    "a = float(input(\"Enter Value Of a : \"))\n",
    "b = float(input(\"Enter Value Of b : \"))\n",
    "c = float(input(\"Enter Value Of c : \"))\n",
    "d = (b*b-4*a*c)\n",
    "val = math.sqrt(abs(d))\n",
    "if d > 0:\n",
    "    print(\"Real Roots\")\n",
    "    print(-b+val)/(2*a)\n",
    "    print(-b-val)/(2*a)\n",
    "elif d == 0:\n",
    "    print(\"Real & Same Roots : \", (-b)/(2*a))\n",
    "elif d < 0:\n",
    "    print(\"Complex Roots\")\n",
    "    print(-b/(2*a), \"+i\", val)\n",
    "    print(-b/(2*a), \"-j\", val)"
   ]
  }
 ],
 "metadata": {
  "kernelspec": {
   "display_name": "Python 3 (ipykernel)",
   "language": "python",
   "name": "python3"
  },
  "language_info": {
   "codemirror_mode": {
    "name": "ipython",
    "version": 3
   },
   "file_extension": ".py",
   "mimetype": "text/x-python",
   "name": "python",
   "nbconvert_exporter": "python",
   "pygments_lexer": "ipython3",
   "version": "3.9.13"
  }
 },
 "nbformat": 4,
 "nbformat_minor": 4
}
