{
 "cells": [
  {
   "cell_type": "markdown",
   "metadata": {},
   "source": [
    "<a href='https://www.darshan.ac.in/'> <img src='https://www.darshan.ac.in/Content/media/DU_Logo.svg' width=\"250\" height=\"300\"/></a>\n",
    "<pre>\n",
    "<center><b><h1>Python Programming - 2101CS405</b></center>\n",
    "<center><b><h1>Lab - 1</b></center>    \n",
    "<pre>"
   ]
  },
  {
   "cell_type": "markdown",
   "metadata": {},
   "source": [
    "### 01) WAP to print “Hello World”"
   ]
  },
  {
   "cell_type": "code",
   "execution_count": 1,
   "metadata": {},
   "outputs": [
    {
     "name": "stdout",
     "output_type": "stream",
     "text": [
      "Hello World\n"
     ]
    }
   ],
   "source": [
    "print(\"Hello World\")"
   ]
  },
  {
   "cell_type": "markdown",
   "metadata": {},
   "source": [
    "### 02) WAP to print your address i) using single print ii) using multiple print"
   ]
  },
  {
   "cell_type": "code",
   "execution_count": null,
   "metadata": {},
   "outputs": [],
   "source": [
    "print(\"Hello\")\n",
    "print(\"World\")"
   ]
  },
  {
   "cell_type": "markdown",
   "metadata": {},
   "source": [
    "### 03) WAP to print addition of 2 numbers (without input function)"
   ]
  },
  {
   "cell_type": "code",
   "execution_count": 6,
   "metadata": {},
   "outputs": [
    {
     "name": "stdout",
     "output_type": "stream",
     "text": [
      "Addition =  10\n"
     ]
    }
   ],
   "source": [
    "a = 5\n",
    "b = 5\n",
    "print(\"Addition = \",a+b)"
   ]
  },
  {
   "cell_type": "markdown",
   "metadata": {},
   "source": [
    "### 04) WAP to calculate and print average of 2 numbers (without input function)"
   ]
  },
  {
   "cell_type": "code",
   "execution_count": 7,
   "metadata": {},
   "outputs": [
    {
     "name": "stdout",
     "output_type": "stream",
     "text": [
      "Addition of two numbers =  5.0\n"
     ]
    }
   ],
   "source": [
    "a = 5\n",
    "b = 5\n",
    "c = (a + b)/2\n",
    "print(\"Addition of two numbers = \",c)"
   ]
  },
  {
   "cell_type": "markdown",
   "metadata": {},
   "source": [
    "### 05) WAP to add two number entered by user."
   ]
  },
  {
   "cell_type": "code",
   "execution_count": 4,
   "metadata": {},
   "outputs": [
    {
     "name": "stdout",
     "output_type": "stream",
     "text": [
      "Enter Number1 : 3\n",
      "Enter Number2 : 4\n",
      "Addition :  7\n"
     ]
    }
   ],
   "source": [
    "number1 = int(input(\"Enter Number1 : \"))\n",
    "number2 = int(input(\"Enter Number2 : \"))\n",
    "print(\"Addition = \", number1 + number2)"
   ]
  },
  {
   "cell_type": "markdown",
   "metadata": {},
   "source": [
    "### 06) WAP to calculate simple interest."
   ]
  },
  {
   "cell_type": "code",
   "execution_count": 5,
   "metadata": {},
   "outputs": [
    {
     "name": "stdout",
     "output_type": "stream",
     "text": [
      "Enter p: 2\n",
      "Enter r: 4\n",
      "Enter t: 6\n",
      "Simple Intrest =  0.12\n"
     ]
    }
   ],
   "source": [
    "p = int(input(\"Enter p: \"))\n",
    "r = int(input(\"Enter r: \"))\n",
    "t = int(input(\"Enter t: \"))\n",
    "si = (p+r+t)/100\n",
    "print(\"Simple Intrest = \",si)"
   ]
  },
  {
   "cell_type": "markdown",
   "metadata": {},
   "source": [
    " 07) WAP Calculate Area and Circumfrence of Circle"
   ]
  },
  {
   "cell_type": "code",
   "execution_count": 8,
   "metadata": {},
   "outputs": [
    {
     "name": "stdout",
     "output_type": "stream",
     "text": [
      "Enter Radius : 15\n",
      "Area of circle =  706.5\n",
      "Circumfrence of circle =  94.2\n"
     ]
    }
   ],
   "source": [
    "pi = 3.14\n",
    "r = int(input(\"Enter Radius : \"))\n",
    "print(\"Area of circle = \",pi*r*r)\n",
    "print(\"Circumfrence of circle = \",2*pi*r)"
   ]
  },
  {
   "cell_type": "markdown",
   "metadata": {},
   "source": [
    "### 08) WAP to print Multiplication table of given number without using loops."
   ]
  },
  {
   "cell_type": "code",
   "execution_count": 17,
   "metadata": {},
   "outputs": [
    {
     "name": "stdout",
     "output_type": "stream",
     "text": [
      "Enter number : 5\n",
      "5 x 1 = 5\n",
      "5 x 2 = 10\n",
      "5 x 3 = 15\n",
      "5 x 4 = 20\n",
      "5 x 5 = 25\n",
      "5 x 6 = 30\n",
      "5 x 7 = 35\n",
      "5 x 8 = 40\n",
      "5 x 9 = 45\n",
      "5 x 10 = 50\n"
     ]
    }
   ],
   "source": [
    "n = int(input(\"Enter number : \"))\n",
    "print(n, \"x\"\" \"\"1\" \" \" \"=\", n*1)\n",
    "print(n, \"x\"\" \"\"2\" \" \" \"=\", n*2)\n",
    "print(n, \"x\"\" \"\"3\" \" \" \"=\", n*3)\n",
    "print(n, \"x\"\" \"\"4\" \" \" \"=\", n*4)\n",
    "print(n, \"x\"\" \"\"5\" \" \" \"=\", n*5)\n",
    "print(n, \"x\"\" \"\"6\" \" \" \"=\", n*6)\n",
    "print(n, \"x\"\" \"\"7\" \" \" \"=\", n*7)\n",
    "print(n, \"x\"\" \"\"8\" \" \" \"=\", n*8)\n",
    "print(n, \"x\"\" \"\"9\" \" \" \"=\", n*9)\n",
    "print(n, \"x\"\" \"\"10\" \" \" \"=\", n*10)"
   ]
  },
  {
   "cell_type": "markdown",
   "metadata": {},
   "source": [
    "### 09) WAP to calculate Area of Triangle (hint: a = h * b * 0.5)"
   ]
  },
  {
   "cell_type": "code",
   "execution_count": 18,
   "metadata": {},
   "outputs": [
    {
     "name": "stdout",
     "output_type": "stream",
     "text": [
      "Enter h : 4\n",
      "Enter b : 5\n",
      "Area of triangle =  10.0\n"
     ]
    }
   ],
   "source": [
    "h = int(input(\"Enter h : \"))\n",
    "b = int(input(\"Enter b : \"))\n",
    "print(\"Area of triangle = \",h*b*0.5)"
   ]
  },
  {
   "cell_type": "markdown",
   "metadata": {},
   "source": [
    "### 10) WAP to convert degree to Fahrenheit and vice versa."
   ]
  },
  {
   "cell_type": "code",
   "execution_count": 21,
   "metadata": {},
   "outputs": [
    {
     "name": "stdout",
     "output_type": "stream",
     "text": [
      "Enter calsius : 0\n",
      "fahrenhit =  32.0\n",
      "Enter Fahrenhit : 32\n",
      "Calsius =  0.0\n"
     ]
    }
   ],
   "source": [
    "c = int(input(\"Enter calsius : \"))\n",
    "f = c * (9/5) + 32\n",
    "print(\"fahrenhit = \",f)\n",
    "fe = int(input(\"Enter Fahrenhit : \"))\n",
    "c = (f - 32)/1.8\n",
    "print(\"Calsius = \",c)"
   ]
  },
  {
   "cell_type": "markdown",
   "metadata": {},
   "source": [
    "### 11) WAP to calculate total marks and Percentage."
   ]
  },
  {
   "cell_type": "code",
   "execution_count": 2,
   "metadata": {},
   "outputs": [
    {
     "name": "stdout",
     "output_type": "stream",
     "text": [
      "Enter subject 1 marks : 90\n",
      "Enter subject 2 marks : 90\n",
      "Enter subject 3 marks : 90\n",
      "Enter subject 4 marks : 90\n",
      "Enter subject 5 marks : 90\n",
      "Total marks =  450\n",
      "Your percentage =  90.0\n"
     ]
    }
   ],
   "source": [
    "s1 = int(input(\"Enter subject 1 marks : \"))\n",
    "s2 = int(input(\"Enter subject 2 marks : \"))\n",
    "s3 = int(input(\"Enter subject 3 marks : \"))\n",
    "s4 = int(input(\"Enter subject 4 marks : \"))\n",
    "s5 = int(input(\"Enter subject 5 marks : \"))\n",
    "total = s1+s2+s3+s4+s5\n",
    "percentage = (100*total)/500\n",
    "print(\"Total marks = \",total)\n",
    "print(\"Your percentage = \",percentage)"
   ]
  },
  {
   "cell_type": "markdown",
   "metadata": {},
   "source": [
    "### 12) Compute distance between two points taking input from the user (Pythagorean Theorem)."
   ]
  },
  {
   "cell_type": "code",
   "execution_count": 4,
   "metadata": {},
   "outputs": [
    {
     "name": "stdout",
     "output_type": "stream",
     "text": [
      "Enter x1 : 4\n",
      "Enter x2 : 3\n",
      "Enter y1 : 5\n",
      "Enter y2 : 6\n",
      "Distance =  1.4142135623730951\n"
     ]
    }
   ],
   "source": [
    "x1 = int(input(\"Enter x1 : \"))\n",
    "x2 = int(input(\"Enter x2 : \"))\n",
    "y1 = int(input(\"Enter y1 : \"))\n",
    "y2 = int(input(\"Enter y2 : \"))\n",
    "c = ((x2-x1)**2 + (y2-y1)**2)**0.5\n",
    "print(\"Distance = \",c)"
   ]
  },
  {
   "cell_type": "markdown",
   "metadata": {},
   "source": [
    "### 13) WAP to convert seconds into hours, minutes & seconds and print in HH:MM:SS\n",
    "[e.g. 10000 seconds mean 2:46:40 (2 Hours, 46 Minutes, 40Seconds)]"
   ]
  },
  {
   "cell_type": "code",
   "execution_count": 5,
   "metadata": {},
   "outputs": [
    {
     "name": "stdout",
     "output_type": "stream",
     "text": [
      "Enter Second : 3600\n",
      "1:00:00\n"
     ]
    }
   ],
   "source": [
    "s = int(input(\"Enter Second : \"))\n",
    "s = s % (24*3600)\n",
    "h = s // 3600\n",
    "s %= 3600\n",
    "m = s // 60\n",
    "s %= 60\n",
    "print(\"%d:%02d:%02d\" % (h,m,s))"
   ]
  },
  {
   "cell_type": "markdown",
   "metadata": {},
   "source": [
    "### 14) WAP to enter distance into kilometer and convert it into meter, feet,inches, and centimeter"
   ]
  },
  {
   "cell_type": "code",
   "execution_count": 7,
   "metadata": {},
   "outputs": [
    {
     "name": "stdout",
     "output_type": "stream",
     "text": [
      "Enter Distance In Kilometer : 4\n",
      "4 Kilometer Is 4000 Meter 13124 Foot 157480 Inch 400000 Centimeters\n"
     ]
    }
   ],
   "source": [
    "k = int(input(\"Enter Distance In Kilometer : \"))\n",
    "m = k*1000\n",
    "f = k*3281\n",
    "i = k*39370\n",
    "c = k*100000\n",
    "print(f\"{k} Kilometer Is {m} Meter {f} Foot {i} Inch {c} Centimeters\")"
   ]
  }
 ],
 "metadata": {
  "kernelspec": {
   "display_name": "Python 3 (ipykernel)",
   "language": "python",
   "name": "python3"
  },
  "language_info": {
   "codemirror_mode": {
    "name": "ipython",
    "version": 3
   },
   "file_extension": ".py",
   "mimetype": "text/x-python",
   "name": "python",
   "nbconvert_exporter": "python",
   "pygments_lexer": "ipython3",
   "version": "3.9.13"
  }
 },
 "nbformat": 4,
 "nbformat_minor": 4
}
